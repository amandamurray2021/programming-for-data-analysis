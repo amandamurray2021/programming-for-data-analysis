{
 "cells": [
  {
   "cell_type": "markdown",
   "id": "bf235693-3dc9-41d2-a2f0-c890c05f79bc",
   "metadata": {},
   "source": [
    "# The numpy.random package\n",
    "\n",
    "***"
   ]
  },
  {
   "cell_type": "markdown",
   "id": "6ec90f32-fa91-4fa8-a6a4-f499ce186dba",
   "metadata": {},
   "source": [
    "This notebook will discuss the numpy.random package in Python.\n",
    "\n",
    "It will focus on:\n",
    "* Explaining the overall use of the package.\n",
    "* Explaining the use of \"Simple random data\" and \"Permutations\" functions.\n",
    "* Explaining the use and purpose of 5 \"Distributions\" functions.\n",
    "* Explaining the use of seeds in generating pseudorandom numbers.\n",
    "\n",
    "***"
   ]
  },
  {
   "cell_type": "markdown",
   "id": "fbcff195-d822-4c86-9e25-4e551832b49f",
   "metadata": {},
   "source": [
    "## Overview of numpy.random\n",
    "\n",
    "***"
   ]
  },
  {
   "cell_type": "markdown",
   "id": "be6f5432-3b56-4e82-bd4f-d59a47f5aed9",
   "metadata": {},
   "source": [
    "1. Overview of NumPy and what it's used for\n",
    "2. Arrays \n",
    "3. Overview of NumPy.random"
   ]
  },
  {
   "cell_type": "markdown",
   "id": "e1c0752b-ee8a-4a4a-96fd-0daff2e4adde",
   "metadata": {},
   "source": [
    "From Numpy's documentation:\n",
    "\n",
    "\"NumPy (Numerical Python) is an open source Python library that’s used in almost every field of science and engineering. It’s the universal standard for working with numerical data in Python, and it’s at the core of the scientific Python and PyData ecosystems. The NumPy API is used extensively in Pandas, SciPy, Matplotlib, scikit-learn, scikit-image and most other data science and scientific Python packages.\n",
    "\n",
    "The NumPy library contains multidimensional array and matrix data structures. It provides ndarray, a homogeneous n-dimensional array object, with methods to efficiently operate on it. NumPy can be used to perform a wide variety of mathematical operations on arrays. It adds powerful data structures to Python that guarantee efficient calculations with arrays and matrices and it supplies an enormous library of high-level mathematical functions that operate on these arrays and matrices.\" [1]\n",
    "\n",
    "So what does this mean?\n",
    "\n",
    "\"NumPy gives you an enormous range of fast and efficient ways of creating arrays and manipulating numerical data inside them. While a Python list can contain different data types within a single list, all of the elements in a NumPy array should be homogeneous. The mathematical operations that are meant to be performed on arrays would be extremely inefficient if the arrays weren’t homogeneous.\n",
    "\n",
    "Why use NumPy?\n",
    "\n",
    "NumPy arrays are faster and more compact than Python lists. An array consumes less memory and is convenient to use. NumPy uses much less memory to store data and it provides a mechanism of specifying the data types. This allows the code to be optimized even further.\" []\n",
    "\n",
    "\"An array is a central data structure of the NumPy library. An array is a grid of values and it contains information about the raw data, how to locate an element, and how to interpret an element. It has a grid of elements that can be indexed in various ways. The elements are all of the same type, referred to as the array dtype.\n",
    "\n",
    "An array can be indexed by a tuple of nonnegative integers, by booleans, by another array, or by integers. The rank of the array is the number of dimensions. The shape of the array is a tuple of integers giving the size of the array along each dimension.\" []\n",
    "\n",
    "\"You might occasionally hear an array referred to as a “ndarray,” which is shorthand for “N-dimensional array.” An N-dimensional array is simply an array with any number of dimensions. You might also hear 1-D, or one-dimensional array, 2-D, or two-dimensional array, and so on. The NumPy ndarray class is used to represent both matrices and vectors. A vector is an array with a single dimension (there’s no difference between row and column vectors), while a matrix refers to an array with two dimensions. For 3-D or higher dimensional arrays, the term tensor is also commonly used.\" []\n",
    "\n",
    "\"There are 6 general mechanisms for creating arrays:\n",
    "\n",
    "Conversion from other Python structures (i.e. lists and tuples)\n",
    "\n",
    "Intrinsic NumPy array creation functions (e.g. arange, ones, zeros, etc.)\n",
    "\n",
    "Replicating, joining, or mutating existing arrays\n",
    "\n",
    "Reading arrays from disk, either from standard or custom formats\n",
    "\n",
    "Creating arrays from raw bytes through the use of strings or buffers\n",
    "\n",
    "Use of special library functions (e.g., random)\" []\n",
    "\n",
    "So, what is this special library function?\n",
    "\n",
    "\"Numpy's random number routines produce pseudo random numbers using combinations of a BitGenerator to create sequences and a Generator to use those sequences to sample from different statistical distributions\" [1]. \n",
    "\n",
    "There is some new terminology described in the Numpy documentation, specifically, pseudo random numbers, a Bit Generator and a Generator. Let's take a look at the explanation of each of these in order to understand what numpy.random is actually doing in layman's terms.\n",
    "\n",
    "First of all, what is a pseudo random number?\n",
    "\n",
    "In order to explain this, we will need to have a deeper understanding of \"random\" in computing.\n",
    "\n",
    "This is explained very eloquently on W3Schools:\n",
    "\n",
    "\"Random number does NOT mean a different number every time. Random means something that can not be predicted logically. Computers work on programs, and programs are definitive sets of instructions. [Therefore]... it means there must be some algorithm to generate a random number as well. If there is a program to generate random number[s] it can be predicted, this it is not truly random. Random numbers generated through a generation algorithm are called pseudo random\" [2].\n",
    "\n",
    "Now that we have an understanding of what a pseudo random number is, what are the Bit Generator and Generator that we have to use in order to produce them, as the documentation says?\n",
    "\n",
    "\"BitGenerators: Objects that generate random numbers. These are typically unsigned integer words filled with sequences of either 32 or 64 random bits.\n",
    "\n",
    "Generators: Objects that transform sequences of random bits from a BitGenerator into sequences of numbers that follow a specific probability distribution (such as uniform, Normal or Binomial) within a specified interval.\n",
    "\n",
    "Since Numpy version 1.17.0 the Generator can be initialized with a number of different BitGenerators. It exposes many different probability distributions.\" []\n"
   ]
  },
  {
   "cell_type": "markdown",
   "id": "0eb944c7-34af-4cfe-af9e-bf84b4dace58",
   "metadata": {},
   "source": [
    "# Functions in numpy.random\n",
    "\n",
    "***"
   ]
  },
  {
   "cell_type": "markdown",
   "id": "18b6a79d-77e5-4b94-83a3-214ac9beae71",
   "metadata": {},
   "source": [
    "## Simple random data\n",
    "\n",
    "URL: https://numpy.org/doc/stable/reference/random/legacy.html#simple-random-data\n",
    "\n",
    "***"
   ]
  },
  {
   "cell_type": "markdown",
   "id": "9b0e9a35-cf4f-431b-b287-ffac60bcaa58",
   "metadata": {},
   "source": [
    "* rand\n",
    "* randn\n",
    "* randint\n",
    "* random_integers\n",
    "* random_sample\n",
    "* choice\n",
    "* bytes"
   ]
  },
  {
   "cell_type": "markdown",
   "id": "d632d9cd-9eb8-43a1-bbd0-c7aeb56fa619",
   "metadata": {},
   "source": [
    "## Permutations\n",
    "\n",
    "URL: https://numpy.org/doc/stable/reference/random/generated/numpy.random.permutation.html\n",
    "\n",
    "https://numpy.org/doc/stable/reference/random/index.html#random-quick-start\n",
    "\n",
    "https://www.w3schools.com/python/numpy/numpy_random_permutation.asp\n",
    "\n",
    "***"
   ]
  },
  {
   "cell_type": "markdown",
   "id": "33c25aed-9443-4dbf-8842-74370414ab7b",
   "metadata": {},
   "source": [
    "* shuffle\n",
    "* permutation"
   ]
  },
  {
   "cell_type": "markdown",
   "id": "105675fa-7f06-4d3c-8955-2101ad5e4d08",
   "metadata": {},
   "source": [
    "The permutation function is used to \"randomly permute a sequence, or return a permuted range. If [it] is a multi-dimensional array, it is only shuffled along its first index.\" []. \n",
    "\n",
    "For example:"
   ]
  },
  {
   "cell_type": "markdown",
   "id": "911171ec-6d7e-4b5a-8f7f-00792cca2676",
   "metadata": {},
   "source": [
    "https://numpy.org/doc/stable/reference/random/legacy.html#permutations"
   ]
  },
  {
   "cell_type": "code",
   "execution_count": 21,
   "id": "0f05a692-1ef6-42ea-91fa-cc0324d9acdc",
   "metadata": {},
   "outputs": [
    {
     "name": "stdout",
     "output_type": "stream",
     "text": [
      "[ 2  3  8 10  5  9  7  1  6  4]\n"
     ]
    }
   ],
   "source": [
    "from numpy.random import default_rng\n",
    "rng = default_rng()\n",
    "values = ([1,2,3,4,5,6,7,8,9,10])\n",
    "print (rng.permutation(values))"
   ]
  },
  {
   "cell_type": "markdown",
   "id": "a94ed388-bbeb-4cc1-b205-1a1dc4326979",
   "metadata": {},
   "source": [
    "***"
   ]
  },
  {
   "cell_type": "markdown",
   "id": "e187cc4f-dcbc-4a43-89d1-e21e51953f6d",
   "metadata": {},
   "source": [
    "## Distributions\n",
    "\n",
    "***"
   ]
  },
  {
   "cell_type": "markdown",
   "id": "de53f4e0-0ee7-47c5-80d5-291133cfd73b",
   "metadata": {},
   "source": [
    "There are many functions available in numpy which can be used to visualise your data. This notebook is going to look at 5 of them in-depth."
   ]
  },
  {
   "cell_type": "markdown",
   "id": "0e3d032e-3f21-4097-80e7-c921bde6ecfd",
   "metadata": {},
   "source": [
    "https://numpy.org/doc/stable/reference/random/legacy.html#distributions\n",
    "\n",
    "https://numpy.org/doc/stable/reference/random/legacy.html#functions-in-numpy-random"
   ]
  },
  {
   "cell_type": "markdown",
   "id": "1a121a58-4b59-4d84-a745-926a1c0be347",
   "metadata": {},
   "source": [
    "# Seeds in numpy.random\n",
    "\n",
    "***"
   ]
  },
  {
   "cell_type": "markdown",
   "id": "9573c4ee-3d21-42e9-9c0b-df398749c717",
   "metadata": {},
   "source": [
    "https://numpy.org/doc/stable/reference/random/legacy.html#seeding-and-state"
   ]
  },
  {
   "cell_type": "markdown",
   "id": "963903b2-457c-4221-91dc-85e44451ddfe",
   "metadata": {},
   "source": [
    "* get_state\n",
    "* set_state\n",
    "* seed"
   ]
  },
  {
   "cell_type": "markdown",
   "id": "18f2728d-e7f0-4f65-a802-458922ecb395",
   "metadata": {},
   "source": [
    "https://numpy.org/doc/stable/reference/random/generator.html#random-generator"
   ]
  },
  {
   "cell_type": "markdown",
   "id": "aad19530-6842-462e-9646-6d0e602641ba",
   "metadata": {},
   "source": [
    "# References\n",
    "\n",
    "***"
   ]
  },
  {
   "cell_type": "markdown",
   "id": "e317e1e2-1e44-4e0e-aca7-e003f1132d17",
   "metadata": {},
   "source": [
    "[1] https://numpy.org/doc/stable/reference/random/index.html\n",
    "\n",
    "[2] https://www.w3schools.com/python/numpy/numpy_random.asp"
   ]
  },
  {
   "cell_type": "markdown",
   "id": "fac3e206-fdb6-4409-8ce1-28af6e06a1b7",
   "metadata": {},
   "source": [
    "### End"
   ]
  }
 ],
 "metadata": {
  "kernelspec": {
   "display_name": "Python 3",
   "language": "python",
   "name": "python3"
  },
  "language_info": {
   "codemirror_mode": {
    "name": "ipython",
    "version": 3
   },
   "file_extension": ".py",
   "mimetype": "text/x-python",
   "name": "python",
   "nbconvert_exporter": "python",
   "pygments_lexer": "ipython3",
   "version": "3.8.8"
  }
 },
 "nbformat": 4,
 "nbformat_minor": 5
}
