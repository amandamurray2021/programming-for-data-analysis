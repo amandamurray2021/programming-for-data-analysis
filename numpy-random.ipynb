{
 "cells": [
  {
   "cell_type": "markdown",
   "id": "bf235693-3dc9-41d2-a2f0-c890c05f79bc",
   "metadata": {},
   "source": [
    "# The numpy.random package\n",
    "\n",
    "***"
   ]
  },
  {
   "cell_type": "markdown",
   "id": "6ec90f32-fa91-4fa8-a6a4-f499ce186dba",
   "metadata": {},
   "source": [
    "This notebook will discuss the numpy.random package in Python.\n",
    "\n",
    "It will focus on:\n",
    "* Explaining the overall use of the package.\n",
    "* Explaining the use of \"Simple random data\" and \"Permutations\" functions.\n",
    "* Explaining the use and purpose of 5 \"Distributions\" functions.\n",
    "* Explaining the use of seeds in generating pseudorandom numbers.\n",
    "\n",
    "***"
   ]
  },
  {
   "cell_type": "markdown",
   "id": "fbcff195-d822-4c86-9e25-4e551832b49f",
   "metadata": {},
   "source": [
    "## NumPy\n",
    "***"
   ]
  },
  {
   "cell_type": "markdown",
   "id": "e1c0752b-ee8a-4a4a-96fd-0daff2e4adde",
   "metadata": {},
   "source": [
    "\"![NumPy](https://img.shields.io/badge/numpy-%23013243.svg?style=for-the-badge&logo=numpy&logoColor=white) (also known as Numerical Python) is used in almost field of science and engineering. It's the universal standard for working with numerical data in Python. The NumPy API is also used extensively in other packages such as:\n",
    "![Pandas](https://img.shields.io/badge/pandas-%23150458.svg?style=for-the-badge&logo=pandas&logoColor=white) \n",
    "![SciPy](https://img.shields.io/badge/SciPy-%230C55A5.svg?style=for-the-badge&logo=scipy&logoColor=%white) \n",
    "![scikit-learn](https://img.shields.io/badge/scikit--learn-%23F7931E.svg?style=for-the-badge&logo=scikit-learn&logoColor=white) \n",
    "Matplotlib \n",
    "& others.\n",
    "\n",
    "The NumPy library contains multidimensional array and matrix data structures. It provides ndarray, a homogeneous n-dimensional array object, with methods to efficiently operate on it. NumPy can be used to perform a wide variety of mathematical operations on arrays.\" [<sup>1</sup>]( https://numpy.org/doc/stable/user/absolute_beginners.html#welcome-to-numpy)\n"
   ]
  },
  {
   "cell_type": "markdown",
   "id": "b7dcd11d-884c-454f-ba8f-0838fc3ca8ac",
   "metadata": {},
   "source": [
    "#### Okay, but what's an array?"
   ]
  },
  {
   "cell_type": "markdown",
   "id": "8c2a9f2c-80d0-4f4c-b71a-1e577c94a2ac",
   "metadata": {},
   "source": [
    "\"An array is a central data structure of the NumPy library. An array is a grid of values and it contains information about the raw data, how to locate an element, and how to interpret an element. It has a grid of elements that can be indexed in various ways. The elements are all of the same type, referred to as the array dtype.\" [<sup>2</sup>](https://numpy.org/doc/stable/user/absolute_beginners.html#what-is-an-array)\n",
    "\n",
    "\"You might occasionally hear an array referred to as a “ndarray,” which is shorthand for “N-dimensional array.” An N-dimensional array is simply an array with any number of dimensions. You might also hear 1-D, or one-dimensional array, 2-D, or two-dimensional array, and so on.\" [<sup>3</sup>](https://numpy.org/doc/stable/user/absolute_beginners.html#more-information-about-arrays)"
   ]
  },
  {
   "cell_type": "markdown",
   "id": "741004f2-829b-47b2-bb85-284b8b2299e4",
   "metadata": {},
   "source": [
    "#### How do you create arrays?"
   ]
  },
  {
   "cell_type": "markdown",
   "id": "8a15e101-fbb2-4eb3-8ef0-38265c235b3b",
   "metadata": {},
   "source": [
    "\"There are several ways to create arrays.\n",
    "\n",
    "For example, you can create an array from a regular Python list or tuple using the array function. The type of the resulting array is deduced from the type of the elements in the sequences.\" [<sup>4</sup>](https://numpy.org/doc/stable/user/quickstart.html#array-creation)\n",
    "\n",
    "\"To create a NumPy array, you can use the function *np.array()*.\n",
    "\n",
    "All you need to do to create a simple array is pass a list to it. If you choose to, you can also specify the type of data in your list.\" [<sup>5</sup>](https://numpy.org/doc/stable/user/absolute_beginners.html#how-to-create-a-basic-array)"
   ]
  },
  {
   "cell_type": "markdown",
   "id": "2b6b768d-066e-4bfe-a20f-0957e83c342c",
   "metadata": {},
   "source": [
    "#### What do arrays look like?"
   ]
  },
  {
   "cell_type": "markdown",
   "id": "d5d0673d-0bdb-43dd-8017-947a768a101c",
   "metadata": {},
   "source": [
    "Okay, so now that we know how to create an array, let's have a look at what they actually look like."
   ]
  },
  {
   "cell_type": "markdown",
   "id": "1e183ba2-122c-4ab3-ba2f-54c05cd621ad",
   "metadata": {},
   "source": [
    "A basic array looks something like this[<sup>5</sup>](https://numpy.org/doc/stable/user/absolute_beginners.html#how-to-create-a-basic-array):"
   ]
  },
  {
   "cell_type": "code",
   "execution_count": 3,
   "id": "bb12ee6e-607f-4a61-8535-0fbb1a6c963e",
   "metadata": {},
   "outputs": [
    {
     "name": "stdout",
     "output_type": "stream",
     "text": [
      "[2 3 4]\n"
     ]
    }
   ],
   "source": [
    "# First of all, you need to import the Numpy library into Python\n",
    "import numpy as np\n",
    "# Using the np.array function, you add a regular Python list in square brackets and save it as 'a'\n",
    "a = np.array([2, 3, 4])\n",
    "print (a)\n",
    "# Print out the list you've saved as 'a'"
   ]
  },
  {
   "cell_type": "markdown",
   "id": "ba80d79d-9e7d-4e50-b39b-fbbbaa5a7ee3",
   "metadata": {},
   "source": [
    "What about the multi-dimensional arrays mentioned earlier, what do they look like?"
   ]
  },
  {
   "cell_type": "markdown",
   "id": "dd9c231e-7746-4daa-a72c-c527decd8e64",
   "metadata": {},
   "source": [
    "\"NumPy arrays can be defined using Python sequences such as lists and tuples. Lists and tuples are defined using [...] and (...), respectively. Lists and tuples can define ndarray creation:\n",
    "\n",
    "* a list of numbers will create a 1D array,\n",
    "* a list of lists will create a 2D array,\n",
    "* further nested lists will create higher-dimensional arrays. In general, any array object is called an ndarray in NumPy.\" [<sup>6</sup>](https://numpy.org/doc/stable/user/basics.creation.html#converting-python-sequences-to-numpy-arrays)\n",
    "\n",
    "\"One-dimensional arrays are then printed as rows, bidimensionals as matrices and tridimensionals as lists of matrices.\" [<sup>7</sup>](https://numpy.org/doc/stable/user/quickstart.html#printing-arrays)"
   ]
  },
  {
   "cell_type": "code",
   "execution_count": 9,
   "id": "1cc30022-71d7-4be8-92ba-96a53b7e3936",
   "metadata": {},
   "outputs": [
    {
     "name": "stdout",
     "output_type": "stream",
     "text": [
      "[1 2 3 4]\n",
      "[[1 2]\n",
      " [3 4]]\n",
      "[[[1 2]\n",
      "  [3 4]]\n",
      "\n",
      " [[5 6]\n",
      "  [7 8]]]\n"
     ]
    }
   ],
   "source": [
    "a1D = np.array([1, 2, 3, 4])\n",
    "print (a1D)\n",
    "a2D = np.array([[1, 2], [3, 4]])\n",
    "print (a2D)\n",
    "a3D = np.array([[[1, 2], [3, 4]],[[5, 6], [7, 8]]])\n",
    "print (a3D)"
   ]
  },
  {
   "cell_type": "markdown",
   "id": "d624abcd-9534-405f-9cb9-0cb014a2c94f",
   "metadata": {},
   "source": [
    "#### Okay, so why not use Python lists instead?\n",
    "\n",
    "\"NumPy arrays are faster and more compact than Python lists. An array consumes less memory and is convenient to use. NumPy uses much less memory to store data and it provides a mechanism of specifying the data types. This allows the code to be optimized even further.\" [<sup>8</sup>](https://numpy.org/doc/stable/user/absolute_beginners.html#whats-the-difference-between-a-python-list-and-a-numpy-array)\n",
    "***"
   ]
  },
  {
   "cell_type": "markdown",
   "id": "9ad0fd57-6a30-4e1d-8f02-4e22fc8cb3ab",
   "metadata": {},
   "source": [
    "## numpy.random"
   ]
  },
  {
   "cell_type": "markdown",
   "id": "72f808de-cd9c-4c24-8a6e-9f9b0c71535b",
   "metadata": {},
   "source": [
    "Now that we have an understanding of what NumPy is used for, let's have a look at the numpy.random package and what it's used for.\n",
    "\n",
    "\"Numpy’s random number routines produce pseudo random numbers using combinations of a BitGenerator to create sequences and a Generator to use those sequences to sample from different statistical distributions:\n",
    "\n",
    "BitGenerators: Objects that generate random numbers. These are typically unsigned integer words filled with sequences of either 32 or 64 random bits.\n",
    "\n",
    "Generators: Objects that transform sequences of random bits from a BitGenerator into sequences of numbers that follow a specific probability distribution (such as uniform, Normal or Binomial) within a specified interval.\n",
    "\n",
    "\"Since Numpy version 1.17.0 the Generator can be initialized with a number of different BitGenerators. It exposes many different probability distributions.\" [<sup>9</sup>](https://numpy.org/doc/stable/reference/random/index.html?highlight=numpy%20random#random-sampling-numpy-random)\n",
    "\n",
    "First of all, what is a pseudo random number?\n",
    "\n",
    "In order to explain this, we will need to have a deeper understanding of \"random\" in computing.\n",
    "\n",
    "This is explained very eloquently on W3Schools:\n",
    "\n",
    "\"Random number does NOT mean a different number every time. Random means something that can not be predicted logically. Computers work on programs, and programs are definitive sets of instructions. [Therefore]... it means there must be some algorithm to generate a random number as well. If there is a program to generate random number[s] it can be predicted, this it is not truly random. Random numbers generated through a generation algorithm are called pseudo random.\" [<sup>10</sup>](https://www.w3schools.com/python/numpy/numpy_random.asp)\n",
    "\n",
    "Now that we have an understanding of what a pseudo random number is, what are the Bit Generator and Generator that we have to use in order to produce them, as the documentation says?"
   ]
  },
  {
   "cell_type": "markdown",
   "id": "0eb944c7-34af-4cfe-af9e-bf84b4dace58",
   "metadata": {},
   "source": [
    "# Functions in numpy.random\n",
    "\n",
    "***"
   ]
  },
  {
   "cell_type": "markdown",
   "id": "18b6a79d-77e5-4b94-83a3-214ac9beae71",
   "metadata": {},
   "source": [
    "## Simple random data\n",
    "\n",
    "URL: https://numpy.org/doc/stable/reference/random/legacy.html#simple-random-data\n",
    "\n",
    "***"
   ]
  },
  {
   "cell_type": "markdown",
   "id": "9b0e9a35-cf4f-431b-b287-ffac60bcaa58",
   "metadata": {},
   "source": [
    "**random.Generator.integers(low, high=None, size=None, dtype=np.int64, endpoint=False)**\n",
    "\n",
    "URL: https://numpy.org/doc/stable/reference/random/generated/numpy.random.Generator.integers.html#numpy.random.Generator.integers\n",
    "\n",
    "Return random numbers that are inclusive of the number you put into the low argument and exclusive of the number you put into the high argument (if you use a number there). If you don't pass a number into the high field, the results will be from 0 up to but not including the number you passed into the low argument.\n",
    "\n",
    "The size refers to the shape of the array that is returned. If none is specified, only one number will be returned.\n",
    "\n",
    "The dtype refers to A data type object (an instance of numpy.dtype class) describes how the bytes in the fixed-size block of memory corresponding to an array item should be interpreted. https://numpy.org/doc/stable/reference/arrays.dtypes.html#data-type-objects-dtype\n",
    "\n",
    "The endpointbool refers to the option to exclude the endpoint if you wish. It defaults as false unless you choose to set it. https://numpy.org/doc/stable/reference/generated/numpy.linspace.html#numpy.linspace \n",
    "\n",
    "Returns:\n",
    "One number - if no size is specified \n",
    "or\n",
    "An ndarray of random numbers from a distribution.\n",
    "\n",
    "The code will look something like this: random.Generator.integers(low, high=None, size=None, dtype=np.int64, endpoint=False)\n",
    "\n",
    "Here is an example of the code: XYZ\n",
    "***\n",
    "URL:\n",
    "https://numpy.org/doc/stable/reference/random/generator.html#simple-random-data\n",
    "\n",
    "***"
   ]
  },
  {
   "cell_type": "markdown",
   "id": "ac0b8aca-f2ab-436c-9f93-7abdcd00bd8c",
   "metadata": {},
   "source": [
    "* random\n",
    "\n",
    "URL: https://numpy.org/doc/stable/reference/random/generated/numpy.random.Generator.random.html#numpy.random.Generator.random\n",
    "\n",
    "Return random floats in the half-open interval [0.0, 1.0).\n",
    "\n",
    "Results are from the “continuous uniform” distribution over the stated interval. To sample multiply the output of random by (b-a) and add a:\n",
    "\n",
    "(b - a) * random() + a Parameters sizeint or tuple of ints, optional Output shape. If the given shape is, e.g., (m, n, k), then m * n * k samples are drawn. Default is None, in which case a single value is returned.\n",
    "\n",
    "dtypedtype, optional Desired dtype of the result, only float64 and float32 are supported. Byteorder must be native. The default value is np.float64.\n",
    "\n",
    "outndarray, optional Alternative output array in which to place the result. If size is not None, it must have the same shape as the provided size and must match the type of the output values.\n",
    "\n",
    "Returns outfloat or ndarray of floats Array of random floats of shape size (unless size=None, in which case a single float is returned)."
   ]
  },
  {
   "cell_type": "markdown",
   "id": "74aead39-7aef-459d-8262-95a36bf4ecb6",
   "metadata": {},
   "source": [
    "* choice\n",
    "\n",
    "URL: https://numpy.org/doc/stable/reference/random/generated/numpy.random.Generator.choice.html#numpy.random.Generator.choice\n",
    "\n",
    "random.Generator.choice(a, size=None, replace=True, p=None, axis=0, shuffle=True)\n",
    "Generates a random sample from a given array\n",
    "\n",
    "Parameters\n",
    "a{array_like, int}\n",
    "If it's an ndarray, the sample must be generated from the array. \n",
    "\n",
    "If it's an integer, the random sample is generated from \n",
    "\n",
    "If an ndarray, a random sample is generated from its elements. If an int, the random sample is generated from np.arange(a).\n",
    "\n",
    "size{int, tuple[int]}, optional\n",
    "Output shape. \n",
    "\n",
    "If the given shape is, e.g., (m, n, k), then m * n * k samples are drawn from the 1-d a. \n",
    "\n",
    "* If a has more than one dimension, the size shape will be inserted into the axis dimension, so the output ndim will be a.ndim - 1 + len(size). \n",
    "\n",
    "Default is None, in which case a single value is returned.\n",
    "\n",
    "replacebool, optional\n",
    "Whether the sample is with or without replacement. Default is True, meaning that a value of a can be selected multiple times.\n",
    "\n",
    "p1-D array_like, optional\n",
    "The probabilities associated with each entry in a. If not given, the sample assumes a uniform distribution over all entries in a.\n",
    "\n",
    "axisint, optional\n",
    "The axis along which the selection is performed. The default, 0, selects by row.\n",
    "\n",
    "shufflebool, optional\n",
    "Whether the sample is shuffled when sampling without replacement. Default is True, False provides a speedup.\n",
    "\n",
    "Returns\n",
    "samplessingle item or ndarray\n",
    "The generated random samples\n",
    "\n",
    "Raises\n",
    "ValueError\n",
    "If a is an int and less than zero, if p is not 1-dimensional, if a is array-like with a size 0, if p is not a vector of probabilities, if a and p have different lengths, or if replace=False and the sample size is greater than the population size."
   ]
  },
  {
   "cell_type": "markdown",
   "id": "d3e329be-dfd7-42d5-8f39-4abf17bc8142",
   "metadata": {},
   "source": [
    "* bytes\n",
    "\n",
    "URL: https://numpy.org/doc/stable/reference/random/generated/numpy.random.Generator.bytes.html#numpy.random.Generator.bytes\n",
    "\n",
    "random.Generator.bytes(length)\n",
    "Return random bytes.\n",
    "\n",
    "Parameters\n",
    "lengthint\n",
    "Number of random bytes.\n",
    "\n",
    "Returns\n",
    "outbytes\n",
    "String of length length.\n"
   ]
  },
  {
   "cell_type": "markdown",
   "id": "d632d9cd-9eb8-43a1-bbd0-c7aeb56fa619",
   "metadata": {},
   "source": [
    "## Permutations\n",
    "\n",
    "URL: https://numpy.org/doc/stable/reference/random/generated/numpy.random.permutation.html\n",
    "\n",
    "https://numpy.org/doc/stable/reference/random/index.html#random-quick-start\n",
    "\n",
    "https://www.w3schools.com/python/numpy/numpy_random_permutation.asp\n",
    "\n",
    "***"
   ]
  },
  {
   "cell_type": "markdown",
   "id": "33c25aed-9443-4dbf-8842-74370414ab7b",
   "metadata": {},
   "source": [
    "New:\n",
    "* shuffle\n",
    "\n",
    "URL: https://numpy.org/doc/stable/reference/random/generated/numpy.random.Generator.shuffle.html#numpy.random.Generator.shuffle\n",
    "\n",
    "random.Generator.shuffle(x, axis=0)\n",
    "Modify an array or sequence in-place by shuffling its contents.\n",
    "\n",
    "The order of sub-arrays is changed but their contents remains the same.\n",
    "\n",
    "Parameters\n",
    "xndarray or MutableSequence\n",
    "The array, list or mutable sequence to be shuffled.\n",
    "\n",
    "axisint, optional\n",
    "The axis which x is shuffled along. Default is 0. It is only supported on ndarray objects.\n",
    "\n",
    "Returns\n",
    "None\n",
    "\n",
    "* permutation\n",
    "\n",
    "URL: https://numpy.org/doc/stable/reference/random/generated/numpy.random.Generator.permutation.html#numpy.random.Generator.permutation\n",
    "\n",
    "random.Generator.permutation(x, axis=0)\n",
    "Randomly permute a sequence, or return a permuted range.\n",
    "\n",
    "Parameters\n",
    "xint or array_like\n",
    "If x is an integer, randomly permute np.arange(x). If x is an array, make a copy and shuffle the elements randomly.\n",
    "\n",
    "axisint, optional\n",
    "The axis which x is shuffled along. Default is 0.\n",
    "\n",
    "Returns\n",
    "outndarray\n",
    "Permuted sequence or array range.\n",
    "\n",
    "* permuted\n",
    "\n",
    "URL: https://numpy.org/doc/stable/reference/random/generated/numpy.random.Generator.permuted.html#numpy.random.Generator.permuted\n",
    "\n",
    "random.Generator.permuted(x, axis=None, out=None)\n",
    "Randomly permute x along axis axis.\n",
    "\n",
    "Unlike shuffle, each slice along the given axis is shuffled independently of the others.\n",
    "\n",
    "Parameters\n",
    "xarray_like, at least one-dimensional\n",
    "Array to be shuffled.\n",
    "\n",
    "axisint, optional\n",
    "Slices of x in this axis are shuffled. Each slice is shuffled independently of the others. If axis is None, the flattened array is shuffled.\n",
    "\n",
    "outndarray, optional\n",
    "If given, this is the destinaton of the shuffled array. If out is None, a shuffled copy of the array is returned.\n",
    "\n",
    "Returns\n",
    "ndarray\n",
    "If out is None, a shuffled copy of x is returned. Otherwise, the shuffled array is stored in out, and out is returned\n",
    "\n",
    "***\n",
    "URL: https://numpy.org/doc/stable/reference/random/generator.html#permutations\n",
    "\n",
    "***"
   ]
  },
  {
   "cell_type": "markdown",
   "id": "105675fa-7f06-4d3c-8955-2101ad5e4d08",
   "metadata": {},
   "source": [
    "The permutation function is used to \"randomly permute a sequence, or return a permuted range. If [it] is a multi-dimensional array, it is only shuffled along its first index.\" []. "
   ]
  },
  {
   "cell_type": "markdown",
   "id": "a230d990-56f6-422a-b527-7d760308bfa8",
   "metadata": {},
   "source": [
    "Legacy:"
   ]
  },
  {
   "cell_type": "code",
   "execution_count": 1,
   "id": "82e134bc-0f98-46bf-a15a-9cd1261d167f",
   "metadata": {},
   "outputs": [],
   "source": [
    "# code from doc goes here"
   ]
  },
  {
   "cell_type": "markdown",
   "id": "911171ec-6d7e-4b5a-8f7f-00792cca2676",
   "metadata": {},
   "source": [
    "New:"
   ]
  },
  {
   "cell_type": "code",
   "execution_count": 21,
   "id": "0f05a692-1ef6-42ea-91fa-cc0324d9acdc",
   "metadata": {},
   "outputs": [
    {
     "name": "stdout",
     "output_type": "stream",
     "text": [
      "[ 2  3  8 10  5  9  7  1  6  4]\n"
     ]
    }
   ],
   "source": [
    "from numpy.random import default_rng\n",
    "rng = default_rng()\n",
    "values = ([1,2,3,4,5,6,7,8,9,10])\n",
    "print (rng.permutation(values))"
   ]
  },
  {
   "cell_type": "markdown",
   "id": "a94ed388-bbeb-4cc1-b205-1a1dc4326979",
   "metadata": {},
   "source": [
    "***"
   ]
  },
  {
   "cell_type": "markdown",
   "id": "e187cc4f-dcbc-4a43-89d1-e21e51953f6d",
   "metadata": {},
   "source": [
    "## Distributions\n",
    "\n",
    "***"
   ]
  },
  {
   "cell_type": "markdown",
   "id": "de53f4e0-0ee7-47c5-80d5-291133cfd73b",
   "metadata": {},
   "source": [
    "There are many functions available in numpy which can be used to visualise your data. This notebook is going to look at 5 of them in-depth."
   ]
  },
  {
   "cell_type": "markdown",
   "id": "0e3d032e-3f21-4097-80e7-c921bde6ecfd",
   "metadata": {},
   "source": [
    "New:\n",
    "\n",
    "URL: https://numpy.org/doc/stable/reference/random/generated/numpy.random.Generator.uniform.html#numpy.random.Generator.uniform\n",
    "***\n",
    "URL:\n",
    "https://numpy.org/doc/stable/reference/random/generator.html#distributions\n",
    "\n",
    "***"
   ]
  },
  {
   "cell_type": "markdown",
   "id": "1a121a58-4b59-4d84-a745-926a1c0be347",
   "metadata": {},
   "source": [
    "# Seeds in numpy.random\n",
    "\n",
    "***"
   ]
  },
  {
   "cell_type": "markdown",
   "id": "963903b2-457c-4221-91dc-85e44451ddfe",
   "metadata": {},
   "source": [
    "Legacy: \n",
    "* get_state\n",
    "* set_state\n",
    "* seed\n",
    "\n",
    "URL: https://numpy.org/doc/stable/reference/random/legacy.html#seeding-and-state"
   ]
  },
  {
   "cell_type": "markdown",
   "id": "18f2728d-e7f0-4f65-a802-458922ecb395",
   "metadata": {},
   "source": [
    "New:\n",
    "\n",
    "https://numpy.org/doc/stable/reference/random/legacy.html#numpy.random.RandomState\n",
    "\n",
    "https://numpy.org/doc/stable/reference/random/generator.html#numpy.random.Generator\n",
    "\n",
    "URL: \n",
    "https://numpy.org/doc/stable/reference/random/generator.html#random-generator"
   ]
  },
  {
   "cell_type": "markdown",
   "id": "aad19530-6842-462e-9646-6d0e602641ba",
   "metadata": {},
   "source": [
    "# References\n",
    "\n",
    "***"
   ]
  },
  {
   "cell_type": "markdown",
   "id": "e317e1e2-1e44-4e0e-aca7-e003f1132d17",
   "metadata": {},
   "source": [
    "[1] https://numpy.org/doc/stable/user/absolute_beginners.html#welcome-to-numpy\n",
    "\n",
    "[2] https://numpy.org/doc/stable/user/absolute_beginners.html#what-is-an-array\n",
    "\n",
    "[3] https://numpy.org/doc/stable/user/absolute_beginners.html#more-information-about-arrays\n",
    "\n",
    "[4] https://numpy.org/doc/stable/user/quickstart.html#array-creation\n",
    "\n",
    "[5] https://numpy.org/doc/stable/user/absolute_beginners.html#how-to-create-a-basic-array\n",
    "\n",
    "[6] https://numpy.org/doc/stable/user/basics.creation.html#converting-python-sequences-to-numpy-arrays\n",
    "\n",
    "[7] https://numpy.org/doc/stable/user/quickstart.html#printing-arrays\n",
    "\n",
    "[8] https://numpy.org/doc/stable/user/absolute_beginners.html#whats-the-difference-between-a-python-list-and-a-numpy-array\n",
    "\n",
    "[9] https://numpy.org/doc/stable/reference/random/index.html?highlight=numpy%20random#random-sampling-numpy-random\n",
    "\n",
    "[10] https://www.w3schools.com/python/numpy/numpy_random.asp\n",
    "\n",
    "https://numpy.org/doc/stable/reference/random/index.html\n",
    "\n",
    "https://github.com/Ileriayo/markdown-badges"
   ]
  },
  {
   "cell_type": "markdown",
   "id": "fac3e206-fdb6-4409-8ce1-28af6e06a1b7",
   "metadata": {},
   "source": [
    "### End"
   ]
  }
 ],
 "metadata": {
  "kernelspec": {
   "display_name": "Python 3",
   "language": "python",
   "name": "python3"
  },
  "language_info": {
   "codemirror_mode": {
    "name": "ipython",
    "version": 3
   },
   "file_extension": ".py",
   "mimetype": "text/x-python",
   "name": "python",
   "nbconvert_exporter": "python",
   "pygments_lexer": "ipython3",
   "version": "3.8.8"
  }
 },
 "nbformat": 4,
 "nbformat_minor": 5
}
