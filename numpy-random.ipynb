{
 "cells": [
  {
   "cell_type": "markdown",
   "id": "bf235693-3dc9-41d2-a2f0-c890c05f79bc",
   "metadata": {},
   "source": [
    "# The numpy.random package\n",
    "\n",
    "***"
   ]
  },
  {
   "cell_type": "markdown",
   "id": "6ec90f32-fa91-4fa8-a6a4-f499ce186dba",
   "metadata": {},
   "source": [
    "This notebook will discuss the numpy.random package in Python.\n",
    "\n",
    "It will focus on:\n",
    "* Explaining the overall use of the package.\n",
    "* Explaining the use of \"Simple random data\" and \"Permutations\" functions.\n",
    "* Explaining the use and purpose of 5 \"Distributions\" functions.\n",
    "* Explaining the use of seeds in generating pseudorandom numbers.\n",
    "\n",
    "***"
   ]
  },
  {
   "cell_type": "markdown",
   "id": "fbcff195-d822-4c86-9e25-4e551832b49f",
   "metadata": {},
   "source": [
    "## Overview of numpy.random\n",
    "\n",
    "***"
   ]
  },
  {
   "cell_type": "markdown",
   "id": "e1c0752b-ee8a-4a4a-96fd-0daff2e4adde",
   "metadata": {},
   "source": [
    "From Numpy's documentation:\n",
    "\n",
    "\"Numpy's random number routines produce pseudo random numbers using combinations of a BitGenerator to create sequences and a Generator to use those sequences to sample from different statistical distributions\" [1]. \n",
    "\n",
    "There is some new terminology described in the Numpy documentation, specifically, pseudo random numbers, a Bit Generator and a Generator. Let's take a look at the explanation of each of these in order to understand what numpy.random is actually doing in layman's terms.\n",
    "\n",
    "First of all, what is a pseudo random number?\n",
    "\n",
    "In order to explain this, we will need to have a deeper understanding of \"random\" in computing.\n",
    "\n",
    "This is explained very eloquently on W3Schools:\n",
    "\n",
    "\"Random number does NOT mean a different number every time. Random means something that can not be predicted logically. Computers work on programs, and programs are definitive sets of instructions. [Therefore]... it means there must be some algorithm to generate a random number as well. If there is a program to generate random number[s] it can be predicted, this it is not truly random. Random numbers generated through a generation algorithm are called pseudo random\" [2].\n",
    "\n",
    "Now that we have an understanding of what a pseudo random number is, what are the Bit Generator and Generator that we have to use in order to produce them, as the documentation says?\n",
    "\n",
    "A Bit Generator \n"
   ]
  },
  {
   "cell_type": "markdown",
   "id": "0eb944c7-34af-4cfe-af9e-bf84b4dace58",
   "metadata": {},
   "source": [
    "# Functions in numpy.random\n",
    "\n",
    "***"
   ]
  },
  {
   "cell_type": "markdown",
   "id": "18b6a79d-77e5-4b94-83a3-214ac9beae71",
   "metadata": {},
   "source": [
    "## Simple random data\n",
    "\n",
    "***"
   ]
  },
  {
   "cell_type": "markdown",
   "id": "d632d9cd-9eb8-43a1-bbd0-c7aeb56fa619",
   "metadata": {},
   "source": [
    "## Permutations\n",
    "\n",
    "***"
   ]
  },
  {
   "cell_type": "markdown",
   "id": "e187cc4f-dcbc-4a43-89d1-e21e51953f6d",
   "metadata": {},
   "source": [
    "## Distributions\n",
    "\n",
    "***"
   ]
  },
  {
   "cell_type": "markdown",
   "id": "1a121a58-4b59-4d84-a745-926a1c0be347",
   "metadata": {},
   "source": [
    "# Seeds in numpy.random\n",
    "\n",
    "***"
   ]
  },
  {
   "cell_type": "markdown",
   "id": "aad19530-6842-462e-9646-6d0e602641ba",
   "metadata": {},
   "source": [
    "# References\n",
    "\n",
    "***"
   ]
  },
  {
   "cell_type": "markdown",
   "id": "e317e1e2-1e44-4e0e-aca7-e003f1132d17",
   "metadata": {},
   "source": [
    "[1] https://numpy.org/doc/stable/reference/random/index.html\n",
    "\n",
    "[2] https://www.w3schools.com/python/numpy/numpy_random.asp"
   ]
  },
  {
   "cell_type": "markdown",
   "id": "fac3e206-fdb6-4409-8ce1-28af6e06a1b7",
   "metadata": {},
   "source": [
    "### End"
   ]
  }
 ],
 "metadata": {
  "kernelspec": {
   "display_name": "Python 3",
   "language": "python",
   "name": "python3"
  },
  "language_info": {
   "codemirror_mode": {
    "name": "ipython",
    "version": 3
   },
   "file_extension": ".py",
   "mimetype": "text/x-python",
   "name": "python",
   "nbconvert_exporter": "python",
   "pygments_lexer": "ipython3",
   "version": "3.8.8"
  }
 },
 "nbformat": 4,
 "nbformat_minor": 5
}
