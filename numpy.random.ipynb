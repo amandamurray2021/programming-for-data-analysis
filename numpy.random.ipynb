{
 "cells": [
  {
   "cell_type": "markdown",
   "id": "bf235693-3dc9-41d2-a2f0-c890c05f79bc",
   "metadata": {},
   "source": [
    "# The numpy.random package\n",
    "\n",
    "***"
   ]
  },
  {
   "cell_type": "code",
   "execution_count": null,
   "id": "dc5de98a-af17-4505-8199-c950f0bdfc8c",
   "metadata": {},
   "outputs": [],
   "source": []
  }
 ],
 "metadata": {
  "kernelspec": {
   "display_name": "Python 3",
   "language": "python",
   "name": "python3"
  },
  "language_info": {
   "codemirror_mode": {
    "name": "ipython",
    "version": 3
   },
   "file_extension": ".py",
   "mimetype": "text/x-python",
   "name": "python",
   "nbconvert_exporter": "python",
   "pygments_lexer": "ipython3",
   "version": "3.8.8"
  }
 },
 "nbformat": 4,
 "nbformat_minor": 5
}
